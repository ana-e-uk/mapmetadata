{
 "cells": [
  {
   "cell_type": "code",
   "execution_count": 3,
   "id": "e6ba3d9f",
   "metadata": {},
   "outputs": [],
   "source": [
    "import argparse\n",
    "import sys\n",
    "\n",
    "import pandas as pd\n",
    "import time\n",
    "\n",
    "from DataPartition import DataPartition\n",
    "from EdgeSet import EdgeSet\n",
    "\n",
    "def get_outfile_name(file_out):\n",
    "    if file_out != None:\n",
    "        return file_out\n",
    "    else:\n",
    "        timestr = time.strftime(\"%Y%m%d-%H%M%S\")\n",
    "        return f'{timestr}.csv'    \n",
    "\n",
    "try:\n",
    "\n",
    "    df = pd.read_csv(\"/Users/bean/Documents/Doctorate/1Research/MapMetadata/mapmetadata/testing/test_osmnx.csv\")\n",
    "    partition = DataPartition(df=df)\n",
    "    point_data = partition.get_point_info()\n",
    "\n",
    "    es = EdgeSet()\n",
    "    for p in point_data:\n",
    "        es.update_edge(p)\n",
    "    \n",
    "    edge_metadata = []\n",
    "    for e in es.get_all_idx():\n",
    "        edge_metadata.append(es.compute_metadata(e[0], e[1], e[2]))\n",
    "\n",
    "    metadata_df = pd.DataFrame(edge_metadata, columns=[\"id\", \"inf_oneway_direction\", \"e_speed\", \"speed_limit\"])\n",
    "    csv_name = get_outfile_name(None)\n",
    "    metadata_df.to_csv(csv_name, index=False)\n",
    "\n",
    "except Exception as e:\n",
    "    print(f\"Failed to process the file: {e}\")\n",
    "    sys.exit(1)\n"
   ]
  },
  {
   "cell_type": "code",
   "execution_count": null,
   "id": "09a4ea6e",
   "metadata": {},
   "outputs": [],
   "source": []
  }
 ],
 "metadata": {
  "kernelspec": {
   "display_name": "mapedia_env",
   "language": "python",
   "name": "python3"
  },
  "language_info": {
   "codemirror_mode": {
    "name": "ipython",
    "version": 3
   },
   "file_extension": ".py",
   "mimetype": "text/x-python",
   "name": "python",
   "nbconvert_exporter": "python",
   "pygments_lexer": "ipython3",
   "version": "3.11.13"
  }
 },
 "nbformat": 4,
 "nbformat_minor": 5
}
