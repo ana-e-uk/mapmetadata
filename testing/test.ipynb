{
 "cells": [
  {
   "cell_type": "code",
   "execution_count": 41,
   "id": "d66e8984",
   "metadata": {},
   "outputs": [],
   "source": [
    "import pandas as pd\n",
    "import numpy as np\n",
    "\n",
    "df = pd.read_csv('/Users/bean/Documents/Doctorate/1Research/MapMetadata/mapmetadata/20250721-095144.csv')\n",
    "# df = pd.read_csv('/Users/bean/Documents/Doctorate/1Research/MapMetadata/mapmetadata/data_partiton_test.csv')"
   ]
  },
  {
   "cell_type": "code",
   "execution_count": 42,
   "id": "12e62416",
   "metadata": {},
   "outputs": [
    {
     "data": {
      "text/html": [
       "<div>\n",
       "<style scoped>\n",
       "    .dataframe tbody tr th:only-of-type {\n",
       "        vertical-align: middle;\n",
       "    }\n",
       "\n",
       "    .dataframe tbody tr th {\n",
       "        vertical-align: top;\n",
       "    }\n",
       "\n",
       "    .dataframe thead th {\n",
       "        text-align: right;\n",
       "    }\n",
       "</style>\n",
       "<table border=\"1\" class=\"dataframe\">\n",
       "  <thead>\n",
       "    <tr style=\"text-align: right;\">\n",
       "      <th></th>\n",
       "      <th>traj_id</th>\n",
       "      <th>timestamp</th>\n",
       "      <th>latitude</th>\n",
       "      <th>longitude</th>\n",
       "    </tr>\n",
       "  </thead>\n",
       "  <tbody>\n",
       "    <tr>\n",
       "      <th>0</th>\n",
       "      <td>0_10-0</td>\n",
       "      <td>2021-01-01 07:30:00</td>\n",
       "      <td>30</td>\n",
       "      <td>21</td>\n",
       "    </tr>\n",
       "    <tr>\n",
       "      <th>1</th>\n",
       "      <td>0_10-0</td>\n",
       "      <td>2021-01-01 07:31:30</td>\n",
       "      <td>51</td>\n",
       "      <td>91</td>\n",
       "    </tr>\n",
       "    <tr>\n",
       "      <th>2</th>\n",
       "      <td>0_10-0</td>\n",
       "      <td>2021-01-01 07:32:00</td>\n",
       "      <td>39</td>\n",
       "      <td>28</td>\n",
       "    </tr>\n",
       "    <tr>\n",
       "      <th>3</th>\n",
       "      <td>0_10-0</td>\n",
       "      <td>2021-01-01 07:33:30</td>\n",
       "      <td>93</td>\n",
       "      <td>73</td>\n",
       "    </tr>\n",
       "    <tr>\n",
       "      <th>4</th>\n",
       "      <td>0_10-0</td>\n",
       "      <td>2021-01-01 07:34:00</td>\n",
       "      <td>4</td>\n",
       "      <td>46</td>\n",
       "    </tr>\n",
       "    <tr>\n",
       "      <th>5</th>\n",
       "      <td>0_10-0</td>\n",
       "      <td>2021-01-01 07:37:30</td>\n",
       "      <td>35</td>\n",
       "      <td>55</td>\n",
       "    </tr>\n",
       "    <tr>\n",
       "      <th>6</th>\n",
       "      <td>0_10-0</td>\n",
       "      <td>2021-01-01 07:38:00</td>\n",
       "      <td>70</td>\n",
       "      <td>64</td>\n",
       "    </tr>\n",
       "    <tr>\n",
       "      <th>7</th>\n",
       "      <td>0_10-0</td>\n",
       "      <td>2021-01-01 07:38:30</td>\n",
       "      <td>11</td>\n",
       "      <td>27</td>\n",
       "    </tr>\n",
       "    <tr>\n",
       "      <th>8</th>\n",
       "      <td>0_10-0</td>\n",
       "      <td>2021-01-01 07:39:00</td>\n",
       "      <td>82</td>\n",
       "      <td>18</td>\n",
       "    </tr>\n",
       "    <tr>\n",
       "      <th>9</th>\n",
       "      <td>0_10-0</td>\n",
       "      <td>2021-01-01 07:39:30</td>\n",
       "      <td>40</td>\n",
       "      <td>91</td>\n",
       "    </tr>\n",
       "    <tr>\n",
       "      <th>10</th>\n",
       "      <td>0_10-0</td>\n",
       "      <td>2021-01-01 07:40:00</td>\n",
       "      <td>40</td>\n",
       "      <td>0</td>\n",
       "    </tr>\n",
       "  </tbody>\n",
       "</table>\n",
       "</div>"
      ],
      "text/plain": [
       "   traj_id            timestamp  latitude  longitude\n",
       "0   0_10-0  2021-01-01 07:30:00        30         21\n",
       "1   0_10-0  2021-01-01 07:31:30        51         91\n",
       "2   0_10-0  2021-01-01 07:32:00        39         28\n",
       "3   0_10-0  2021-01-01 07:33:30        93         73\n",
       "4   0_10-0  2021-01-01 07:34:00         4         46\n",
       "5   0_10-0  2021-01-01 07:37:30        35         55\n",
       "6   0_10-0  2021-01-01 07:38:00        70         64\n",
       "7   0_10-0  2021-01-01 07:38:30        11         27\n",
       "8   0_10-0  2021-01-01 07:39:00        82         18\n",
       "9   0_10-0  2021-01-01 07:39:30        40         91\n",
       "10  0_10-0  2021-01-01 07:40:00        40          0"
      ]
     },
     "execution_count": 42,
     "metadata": {},
     "output_type": "execute_result"
    }
   ],
   "source": [
    "df"
   ]
  },
  {
   "cell_type": "code",
   "execution_count": 11,
   "id": "160b3d27",
   "metadata": {},
   "outputs": [],
   "source": [
    "def get_timestamp_list(col):\n",
    "    dt = pd.to_datetime(col, errors = 'coerce')\n",
    "    return dt.to_list()"
   ]
  },
  {
   "cell_type": "code",
   "execution_count": 22,
   "id": "7b8e7b45",
   "metadata": {},
   "outputs": [],
   "source": [
    "self_max_time_diff = pd.Timedelta(minutes=2)\n",
    "k = 2\n",
    "\n",
    "# DATASET\n",
    "self_traj_ids = df['traj_id'].to_list()\n",
    "self_timestamps = get_timestamp_list(col=df['timestamp'])\n",
    "self_latitudes = df['latitude'].to_list()\n",
    "self_longitudes = df['longitude'].to_list()\n",
    "\n",
    "self_num_points = len(df)\n",
    "\n",
    "# # INDEXES\n",
    "# time_group_idx = get_time_group_idx()\n",
    "# space_groups, space_group_idx = get_space_groups()"
   ]
  },
  {
   "cell_type": "code",
   "execution_count": 28,
   "id": "e7d896cf",
   "metadata": {},
   "outputs": [
    {
     "data": {
      "text/plain": [
       "[4, 5, 5]"
      ]
     },
     "execution_count": 28,
     "metadata": {},
     "output_type": "execute_result"
    }
   ],
   "source": [
    "t_list = []\n",
    "t_list.append(4)\n",
    "t_list.append(5)\n",
    "t_list.append(t_list[-1])\n",
    "t_list"
   ]
  },
  {
   "cell_type": "code",
   "execution_count": null,
   "id": "1f57f8f4",
   "metadata": {},
   "outputs": [],
   "source": [
    "# time_group_intervals = []\n",
    "# time_intervals_expanded = []\n",
    "# time_diff = []\n",
    "# dist_diff = []\n",
    "# s = 0\n",
    "# group_time_diff = pd.Timedelta(minutes=0)\n",
    "# prev_id = self_traj_ids[0]\n",
    "# prev_lat = self_latitudes[0]\n",
    "# prev_lon = self_longitudes[0]\n",
    "\n",
    "# for i in range(1, (self_num_points-1)):\n",
    "\n",
    "#     cur_id = self_traj_ids[i]\n",
    "#     cur_lat = self_latitudes[i]\n",
    "#     cur_lon = self_longitudes[i]\n",
    "#     cur_timestamp = self_timestamps[i]\n",
    "    \n",
    "#     # TODO: make two if statements one if statement case\n",
    "#     # calculate change in time and distance for every point pair (w/in a trajectory)\n",
    "#     if cur_id == prev_id:\n",
    "#         group_time_diff = cur_timestamp - self_timestamps[s]\n",
    "#         time_diff.append((cur_timestamp - self_timestamps[i - 1]).total_seconds())\n",
    "#         dist_diff.append(round(np.linalg.norm(np.array([cur_lon, cur_lat], dtype=np.float32) - np.array([prev_lon, prev_lat], dtype=np.float32)), 2))\n",
    "\n",
    "#     if (group_time_diff > self_max_time_diff) or (cur_id != prev_id):\n",
    "#         time_group_intervals.append((s, i))\n",
    "#         time_intervals_expanded.append(np.arange(s, i))\n",
    "#         s = i\n",
    "#         prev_id = cur_id\n",
    "\n",
    "#     prev_lat = cur_lat\n",
    "#     prev_lon = cur_lon\n",
    "\n",
    "# # last index - check if ids of last two points are the same, add correct ids to lists\n",
    "# last_i = self_num_points - 1    # == i + 1\n",
    "# cur_id = self_traj_ids[last_i]\n",
    "# if cur_id != prev_id:   # corner case - last point not in same trajectory as penultimate point\n",
    "#     cur_timestamp = self_timestamps[last_i]\n",
    "#     group_time_diff = cur_timestamp - self_timestamps[s]\n",
    "\n",
    "#     # add last group from loop\n",
    "#     time_group_intervals.append((s, i))\n",
    "#     time_intervals_expanded.append(np.arange(s, last_i))\n",
    "\n",
    "#     # add last point\n",
    "#     time_group_intervals.append(last_i, last_i)\n",
    "#     time_intervals_expanded.append(np.arange(last_i, self_num_points))\n",
    "# else:   # standard case - last point in same trajectory as penultimate point\n",
    "#     time_group_intervals.append((s, last_i))\n",
    "#     time_intervals_expanded.append(np.arange(s, self_num_points))\n",
    "\n",
    "# # last index - get time and distance difference\n",
    "# cur_lat = self_latitudes[last_i]\n",
    "# cur_lon = self_longitudes[last_i]\n",
    "# time_diff.append((self_timestamps[last_i] - self_timestamps[i]).total_seconds())\n",
    "# dist_diff.append(round(np.linalg.norm(np.array([cur_lon, cur_lat], dtype=np.float32) - np.array([prev_lon, prev_lat], dtype=np.float32)), 2))\n",
    "\n",
    "# indices = [end for _, end in time_group_intervals[:-1]]  #TODO: make this the time_group_idx if we only need these vals   \n",
    "\n",
    "# dt = [d/t for d, t in zip(dist_diff,time_diff)]\n",
    "# dt.append(dt[-1])   # last two points have the same value\n",
    "\n",
    "# # return indices, time_intervals_expanded, dt"
   ]
  },
  {
   "cell_type": "code",
   "execution_count": null,
   "id": "71cef59d",
   "metadata": {},
   "outputs": [],
   "source": [
    "time_group_intervals = []\n",
    "time_intervals_expanded = []\n",
    "time_diff = []\n",
    "dist_diff = []\n",
    "s = 0\n",
    "group_time_diff = pd.Timedelta(minutes=0)\n",
    "prev_id = self_traj_ids[0]\n",
    "prev_lat = self_latitudes[0]\n",
    "prev_lon = self_longitudes[0]\n",
    "prev_timestamp = self_timestamps[0]\n",
    "\n",
    "for i in range(1, (self_num_points-1)):\n",
    "\n",
    "    cur_id = self_traj_ids[i]\n",
    "    cur_lat = self_latitudes[i]\n",
    "    cur_lon = self_longitudes[i]\n",
    "    cur_timestamp = self_timestamps[i]\n",
    "\n",
    "    if cur_id == prev_id:\n",
    "        time_diff.append((cur_timestamp - prev_timestamp).total_seconds())\n",
    "        dist_diff.append(round(np.linalg.norm(np.array([cur_lon, cur_lat], dtype=np.float32) - np.array([prev_lon, prev_lat], dtype=np.float32)), 2))\n",
    "\n",
    "        group_time_diff = cur_timestamp - self_timestamps[s]\n",
    "        if (group_time_diff > self_max_time_diff):\n",
    "            time_group_intervals.append((s,i))\n",
    "            time_intervals_expanded.append(np.arange(s,i))\n",
    "            s = i\n",
    "    else:\n",
    "        # last two points of prev trajectory get same speed\n",
    "        time_diff.append(time_diff[-1])\n",
    "        dist_diff.append(dist_diff[-1])\n",
    "        prev_id = cur_id\n",
    "    \n",
    "    prev_lat = cur_lat\n",
    "    prev_lon = cur_lon\n",
    "    prev_timestamp = cur_timestamp\n",
    "\n",
    "# last index - check if ids of last two points are the same, add correct ids to lists\n",
    "last_i = self_num_points - 1    # == i + 1\n",
    "cur_id = self_traj_ids[last_i]\n",
    "\n",
    "if cur_id != prev_id:   # corner case - last point not in same trajectory as penultimate point\n",
    "    # add last group from loop\n",
    "    time_group_intervals.append((s, i))\n",
    "    time_intervals_expanded.append(np.arange(s, last_i))    # need last_i == i + 1 because we want [s, i]\n",
    "    time_diff.append(time_diff[-1])\n",
    "    dist_diff.append(dist_diff[-1])\n",
    "\n",
    "    # add last point\n",
    "    time_group_intervals.append(last_i, last_i)\n",
    "    time_intervals_expanded.append(np.arange(last_i, self_num_points))\n",
    "    time_diff.append(None)\n",
    "    dist_diff.append(None)\n",
    "\n",
    "else:   # standard case - last point in same trajectory as penultimate point\n",
    "    time_group_intervals.append((s, last_i))\n",
    "    time_intervals_expanded.append(np.arange(s, self_num_points))\n",
    "\n",
    "    cur_lat = self_latitudes[last_i]\n",
    "    cur_lon = self_longitudes[last_i]\n",
    "    time_diff.append((self_timestamps[last_i] - self_timestamps[i]).total_seconds())\n",
    "    dist_diff.append(round(np.linalg.norm(np.array([cur_lon, cur_lat], dtype=np.float32) - np.array([prev_lon, prev_lat], dtype=np.float32)), 2))\n",
    "\n",
    "indices = [end for _, end in time_group_intervals[:-1]]  #TODO: make this the time_group_idx if we only need these vals   \n",
    "\n",
    "dt = [d/t for d, t in zip(dist_diff,time_diff)]\n",
    "dt.append(dt[-1])   # last two points have the same value\n",
    "\n",
    "# return indices, time_intervals_expanded, dt"
   ]
  },
  {
   "cell_type": "code",
   "execution_count": 26,
   "id": "960a211d",
   "metadata": {},
   "outputs": [
    {
     "data": {
      "text/plain": [
       "[array([0, 1, 2, 3, 4, 5, 6]),\n",
       " array([ 7,  8,  9, 10, 11, 12, 13]),\n",
       " array([14, 15]),\n",
       " array([16, 17, 18]),\n",
       " array([19, 20, 21]),\n",
       " array([22, 23, 24]),\n",
       " array([25, 26, 27]),\n",
       " array([28, 29, 30]),\n",
       " array([31, 32, 33]),\n",
       " array([34, 35, 36]),\n",
       " array([37, 38, 39]),\n",
       " array([40, 41, 42]),\n",
       " array([43, 44, 45]),\n",
       " array([46, 47]),\n",
       " array([48, 49, 50, 51, 52, 53, 54, 55, 56, 57, 58, 59, 60]),\n",
       " array([61, 62, 63, 64, 65, 66, 67, 68, 69, 70, 71, 72, 73]),\n",
       " array([74, 75, 76, 77, 78, 79, 80, 81, 82, 83, 84]),\n",
       " array([ 85,  86,  87,  88,  89,  90,  91,  92,  93,  94,  95,  96,  97,\n",
       "         98,  99, 100, 101, 102, 103, 104, 105, 106, 107, 108, 109, 110,\n",
       "        111, 112, 113]),\n",
       " array([114]),\n",
       " array([115]),\n",
       " array([116]),\n",
       " array([117, 118, 119])]"
      ]
     },
     "execution_count": 26,
     "metadata": {},
     "output_type": "execute_result"
    }
   ],
   "source": [
    "time_intervals_expanded"
   ]
  },
  {
   "cell_type": "code",
   "execution_count": 36,
   "id": "cc614464",
   "metadata": {},
   "outputs": [
    {
     "data": {
      "text/plain": [
       "[(0, 7),\n",
       " (7, 14),\n",
       " (14, 17),\n",
       " (17, 20),\n",
       " (20, 23),\n",
       " (23, 26),\n",
       " (26, 29),\n",
       " (29, 32),\n",
       " (32, 35),\n",
       " (35, 38),\n",
       " (38, 41),\n",
       " (41, 44),\n",
       " (44, 47),\n",
       " (47, 49),\n",
       " (49, 62),\n",
       " (62, 75),\n",
       " (75, 86),\n",
       " (86, 115),\n",
       " (115, 116),\n",
       " (116, 117),\n",
       " (117, 119)]"
      ]
     },
     "execution_count": 36,
     "metadata": {},
     "output_type": "execute_result"
    }
   ],
   "source": [
    "time_group_intervals"
   ]
  },
  {
   "cell_type": "code",
   "execution_count": 38,
   "id": "01e5bb7b",
   "metadata": {},
   "outputs": [],
   "source": [
    "grouped_lats = np.matrix([[l[0], l[-1]] for l in np.split(self_latitudes, indices)])\n",
    "grouped_lons = np.matrix([[l[0], l[-1]] for l in np.split(self_longitudes, indices)])\n",
    "\n",
    "sorted_lats = np.asarray(np.sort(grouped_lats, axis=1))\n",
    "sorted_lons = np.asarray(np.sort(grouped_lons, axis=1))"
   ]
  },
  {
   "cell_type": "code",
   "execution_count": 39,
   "id": "bfb0811f",
   "metadata": {},
   "outputs": [
    {
     "data": {
      "text/plain": [
       "[7,\n",
       " 14,\n",
       " 17,\n",
       " 20,\n",
       " 23,\n",
       " 26,\n",
       " 29,\n",
       " 32,\n",
       " 35,\n",
       " 38,\n",
       " 41,\n",
       " 44,\n",
       " 47,\n",
       " 49,\n",
       " 62,\n",
       " 75,\n",
       " 86,\n",
       " 115,\n",
       " 116,\n",
       " 117]"
      ]
     },
     "execution_count": 39,
     "metadata": {},
     "output_type": "execute_result"
    }
   ],
   "source": [
    "indices"
   ]
  },
  {
   "cell_type": "code",
   "execution_count": 46,
   "id": "795f005d",
   "metadata": {},
   "outputs": [],
   "source": [
    "def get_bbox(lat, lon, labels, i):\n",
    "    \"\"\"\n",
    "    Return [min_long, min_lat, max_long, max_lat] == [left, bottom, right, top]\n",
    "    \"\"\"\n",
    "    g_lat = np.matrix([row for row, l in zip(lat, labels) if l == i])\n",
    "    g_lon = np.matrix([row for row, l in zip(lon, labels) if l == i])\n",
    "\n",
    "    return [np.min(g_lon), np.min(g_lat), np.max(g_lon), np.max(g_lat)]\n"
   ]
  },
  {
   "cell_type": "code",
   "execution_count": 40,
   "id": "86c830d2",
   "metadata": {},
   "outputs": [
    {
     "ename": "NameError",
     "evalue": "name 'get_bbox' is not defined",
     "output_type": "error",
     "traceback": [
      "\u001b[31m---------------------------------------------------------------------------\u001b[39m",
      "\u001b[31mNameError\u001b[39m                                 Traceback (most recent call last)",
      "\u001b[36mCell\u001b[39m\u001b[36m \u001b[39m\u001b[32mIn[40]\u001b[39m\u001b[32m, line 11\u001b[39m\n\u001b[32m      9\u001b[39m space_groups = []\n\u001b[32m     10\u001b[39m \u001b[38;5;28;01mfor\u001b[39;00m i \u001b[38;5;129;01min\u001b[39;00m \u001b[38;5;28mrange\u001b[39m(k):\n\u001b[32m---> \u001b[39m\u001b[32m11\u001b[39m     space_groups.append(\u001b[43mget_bbox\u001b[49m(lat=sorted_lats, lon=sorted_lons, labels=labels, i=i))\n",
      "\u001b[31mNameError\u001b[39m: name 'get_bbox' is not defined"
     ]
    }
   ],
   "source": [
    "from sklearn.cluster import KMeans\n",
    "# sorted_lats, sorted_lons = get_extrema()\n",
    "mbrs = np.hstack([sorted_lats, sorted_lons])\n",
    "\n",
    "centroids = [( (x1+x2)/2, (y1+y2)/2 ) for y1, y2, x1, x2 in mbrs]\n",
    "kmeans = KMeans(n_clusters = k).fit(centroids)\n",
    "labels = kmeans.labels_\n",
    "\n",
    "space_groups = []\n",
    "for i in range(k):\n",
    "    space_groups.append(get_bbox(lat=sorted_lats, lon=sorted_lons, labels=labels, i=i))"
   ]
  },
  {
   "cell_type": "code",
   "execution_count": 47,
   "id": "f3ba695b",
   "metadata": {},
   "outputs": [],
   "source": [
    "new_df = np.stack([longitudes, latitudes]).transpose()\n",
    "points_in_time_groups = np.split(new_df, indices)\n",
    "points_in_space_groups = [row for row, l in zip(points_in_time_groups, labels) if l == 0]"
   ]
  },
  {
   "cell_type": "code",
   "execution_count": 112,
   "id": "4c5a54cd",
   "metadata": {},
   "outputs": [
    {
     "name": "stdout",
     "output_type": "stream",
     "text": [
      "selected rows\n",
      "[array([[21, 30],\n",
      "       [91, 51],\n",
      "       [28, 39]]), array([[73, 93],\n",
      "       [46,  4]]), array([[55, 35],\n",
      "       [64, 70],\n",
      "       [27, 11],\n",
      "       [18, 82],\n",
      "       [91, 40],\n",
      "       [ 0, 40]])]\n",
      "\n",
      "selected index\n",
      "[array([0, 1, 2]), array([3, 4]), array([5, 6, 7, 8, 9])]\n",
      "\n",
      "combined rows\n",
      "[[21 30]\n",
      " [91 51]\n",
      " [28 39]\n",
      " [73 93]\n",
      " [46  4]\n",
      " [55 35]\n",
      " [64 70]\n",
      " [27 11]\n",
      " [18 82]\n",
      " [91 40]\n",
      " [ 0 40]]\n",
      "combined indices\n",
      "[0 1 2 3 4 5 6 7 8 9]\n",
      "\n",
      "sorted order\n",
      "[0 1 2 3 4 5 6 7 8 9]\n",
      "\n",
      "restored array\n",
      "[[21 30]\n",
      " [91 51]\n",
      " [28 39]\n",
      " [73 93]\n",
      " [46  4]\n",
      " [55 35]\n",
      " [64 70]\n",
      " [27 11]\n",
      " [18 82]\n",
      " [91 40]]\n"
     ]
    }
   ],
   "source": [
    "\n",
    "\n",
    "# Step 3: Select only the groups you're interested in (e.g., label == 0)\n",
    "selected_rows = []\n",
    "selected_idx = []\n",
    "\n",
    "for split, idx, label in zip(points_in_time_groups, time_group_idx, labels):\n",
    "    # if label == 0:\n",
    "    selected_rows.append(split)\n",
    "    selected_idx.append(idx)\n",
    "\n",
    "print(\"selected rows\")\n",
    "print(selected_rows)\n",
    "print(\"\\nselected index\")\n",
    "print(selected_idx)\n",
    "\n",
    "# Step 4: Combine them\n",
    "combined_rows = np.vstack(selected_rows)\n",
    "combined_indices = np.concatenate(selected_idx)\n",
    "\n",
    "print(\"\\ncombined rows\")\n",
    "print(combined_rows)\n",
    "print(\"combined indices\")\n",
    "print(combined_indices)\n",
    "\n",
    "# Step 5: Sort back to original order\n",
    "sorted_order = np.argsort(combined_indices)\n",
    "restored_array = combined_rows[sorted_order]\n",
    "\n",
    "print(\"\\nsorted order\")\n",
    "print(sorted_order)\n",
    "print(\"\\nrestored array\")\n",
    "print(restored_array)\n"
   ]
  },
  {
   "cell_type": "code",
   "execution_count": 68,
   "id": "de0260f8",
   "metadata": {},
   "outputs": [
    {
     "data": {
      "text/plain": [
       "[array([[21, 30],\n",
       "        [91, 51],\n",
       "        [28, 39]]),\n",
       " array([[55, 35],\n",
       "        [64, 70],\n",
       "        [27, 11],\n",
       "        [18, 82],\n",
       "        [91, 40],\n",
       "        [ 0, 40]])]"
      ]
     },
     "execution_count": 68,
     "metadata": {},
     "output_type": "execute_result"
    }
   ],
   "source": [
    "points_in_space_groups"
   ]
  },
  {
   "cell_type": "code",
   "execution_count": 57,
   "id": "c6973f02",
   "metadata": {},
   "outputs": [
    {
     "data": {
      "text/plain": [
       "[[21, 30],\n",
       " [91, 51],\n",
       " [28, 39],\n",
       " [55, 35],\n",
       " [64, 70],\n",
       " [27, 11],\n",
       " [18, 82],\n",
       " [91, 40],\n",
       " [0, 40]]"
      ]
     },
     "execution_count": 57,
     "metadata": {},
     "output_type": "execute_result"
    }
   ],
   "source": [
    "stack_points = np.vstack(points_in_space_groups).tolist()\n",
    "stack_points"
   ]
  },
  {
   "cell_type": "code",
   "execution_count": null,
   "id": "373433f4",
   "metadata": {},
   "outputs": [
    {
     "data": {
      "text/plain": [
       "[array([30, 51, 39]), array([93,  4]), array([35, 70, 11, 82, 40, 40])]"
      ]
     },
     "execution_count": 63,
     "metadata": {},
     "output_type": "execute_result"
    }
   ],
   "source": [
    "lat_tg = np.split(latitudes, indices)\n",
    "lon_tg = np.split(longitudes, indices)"
   ]
  },
  {
   "cell_type": "code",
   "execution_count": 67,
   "id": "bb5523ec",
   "metadata": {},
   "outputs": [
    {
     "data": {
      "text/plain": [
       "[array([30, 51, 39]), array([35, 70, 11, 82, 40, 40])]"
      ]
     },
     "execution_count": 67,
     "metadata": {},
     "output_type": "execute_result"
    }
   ],
   "source": [
    "lat_sg = [tg for tg, i in zip(lat_tg, labels) if i == 0]\n",
    "lat_sg"
   ]
  },
  {
   "cell_type": "code",
   "execution_count": 71,
   "id": "89955a91",
   "metadata": {},
   "outputs": [
    {
     "data": {
      "text/plain": [
       "[30, 51, 39, 35, 70, 11, 82, 40, 40]"
      ]
     },
     "execution_count": 71,
     "metadata": {},
     "output_type": "execute_result"
    }
   ],
   "source": [
    "stack_lats = np.hstack(lat_sg).tolist()\n",
    "stack_lats"
   ]
  },
  {
   "cell_type": "markdown",
   "id": "36567232",
   "metadata": {},
   "source": [
    "traj_ids, speeds, edges, distances"
   ]
  },
  {
   "cell_type": "markdown",
   "id": "2e1b26d7",
   "metadata": {},
   "source": [
    "---"
   ]
  },
  {
   "cell_type": "markdown",
   "id": "b231bb51",
   "metadata": {},
   "source": [
    "---"
   ]
  },
  {
   "cell_type": "code",
   "execution_count": 190,
   "id": "02db4c84",
   "metadata": {},
   "outputs": [],
   "source": [
    "import ast\n",
    "datetimes = pd.to_datetime(df['timestamp'], errors='coerce') \n",
    "timestamps = datetimes.to_list()"
   ]
  },
  {
   "cell_type": "code",
   "execution_count": 191,
   "id": "f4d4efcb",
   "metadata": {},
   "outputs": [],
   "source": [
    "arr = np.zeros(shape=(len(df), 4))"
   ]
  },
  {
   "cell_type": "code",
   "execution_count": 192,
   "id": "90b3deea",
   "metadata": {},
   "outputs": [],
   "source": [
    "coords = np.array(df[['latitude', 'longitude']])\n",
    "lat = df['latitude'].to_list()\n",
    "lon = df['longitude'].to_list()"
   ]
  },
  {
   "cell_type": "code",
   "execution_count": 193,
   "id": "828c784e",
   "metadata": {},
   "outputs": [
    {
     "data": {
      "text/plain": [
       "[(0, 3), (3, 5), (5, 10), (10, 12)]"
      ]
     },
     "execution_count": 193,
     "metadata": {},
     "output_type": "execute_result"
    }
   ],
   "source": [
    "from datetime import timedelta\n",
    "time_group_idx = []\n",
    "time_diff = []\n",
    "dist_diff = []\n",
    "s = 0\n",
    "max_time_diff = pd.Timedelta(minutes=2)\n",
    "traj_ids = df['traj_id'].to_list()\n",
    "num_points = len(df)\n",
    "\n",
    "prev_id = traj_ids[0]\n",
    "for i in range(1, num_points):\n",
    "    cur_id = traj_ids[i-1]\n",
    "    group_time_diff = timestamps[i] - timestamps[s]\n",
    "    if cur_id == prev_id:\n",
    "        time_diff.append((timestamps[i] - timestamps[i - 1]).total_seconds())\n",
    "        dist_diff.append(round(np.linalg.norm(np.array([lon[i], lat[i]], dtype=np.float32) - np.array([lon[i - 1], lat[i - 1]], dtype=np.float32)), 2))\n",
    "    if (group_time_diff > max_time_diff) or (cur_id != prev_id):\n",
    "        time_group_idx.append((s, i))\n",
    "        s = i\n",
    "        prev_id = cur_id\n",
    "time_group_idx.append((s, num_points + 1))\n",
    "time_group_idx"
   ]
  },
  {
   "cell_type": "code",
   "execution_count": 194,
   "id": "752ff299",
   "metadata": {},
   "outputs": [
    {
     "data": {
      "text/plain": [
       "[np.float32(0.81200004),\n",
       " np.float32(2.1376665),\n",
       " np.float32(0.781),\n",
       " np.float32(3.1003335),\n",
       " np.float32(0.15371428),\n",
       " np.float32(1.2046666),\n",
       " np.float32(2.3213334),\n",
       " np.float32(2.3856666),\n",
       " np.float32(2.8073335),\n",
       " np.float32(3.0333333),\n",
       " np.float32(3.0333333)]"
      ]
     },
     "execution_count": 194,
     "metadata": {},
     "output_type": "execute_result"
    }
   ],
   "source": [
    "speed = [d/t for d, t in zip(dist_diff,time_diff)]\n",
    "speed.append(speed[-1])\n",
    "speed"
   ]
  },
  {
   "cell_type": "code",
   "execution_count": 195,
   "id": "6ace7fdb",
   "metadata": {},
   "outputs": [
    {
     "name": "stdout",
     "output_type": "stream",
     "text": [
      "[[30 39]\n",
      " [ 4 93]\n",
      " [35 40]\n",
      " [40 40]]\n",
      "--\n",
      "[[21 28]\n",
      " [46 73]\n",
      " [55 91]\n",
      " [ 0  0]]\n"
     ]
    }
   ],
   "source": [
    "indices = [end for _, end in time_group_idx[:-1]]     \n",
    "grouped_lon = np.split(lon, indices)\n",
    "two_lons = np.matrix([[l[0], l[-1]] for l in grouped_lon])\n",
    "sorted_lons = np.asarray(np.sort(two_lons, axis=1))\n",
    "grouped_lats = np.split(lat, indices)\n",
    "two_lats = np.matrix([[l[0], l[-1]] for l in grouped_lats])\n",
    "sorted_lats = (np.asarray(np.sort(two_lats, axis=1)))\n",
    "print(sorted_lats)\n",
    "print('--')\n",
    "print(sorted_lons)"
   ]
  },
  {
   "cell_type": "code",
   "execution_count": 196,
   "id": "773be6d4",
   "metadata": {},
   "outputs": [
    {
     "data": {
      "text/plain": [
       "[3, 5, 10]"
      ]
     },
     "execution_count": 196,
     "metadata": {},
     "output_type": "execute_result"
    }
   ],
   "source": [
    "indices"
   ]
  },
  {
   "cell_type": "code",
   "execution_count": 197,
   "id": "e2a2240f",
   "metadata": {},
   "outputs": [
    {
     "data": {
      "text/plain": [
       "array([[30, 39, 21, 28],\n",
       "       [ 4, 93, 46, 73],\n",
       "       [35, 40, 55, 91],\n",
       "       [40, 40,  0,  0]])"
      ]
     },
     "execution_count": 197,
     "metadata": {},
     "output_type": "execute_result"
    }
   ],
   "source": [
    "mbrs = np.hstack((sorted_lats, sorted_lons))\n",
    "mbrs"
   ]
  },
  {
   "cell_type": "code",
   "execution_count": 198,
   "id": "106f1b3a",
   "metadata": {},
   "outputs": [],
   "source": [
    "centroids = [( (x1+x2)/2, (y1+y2)/2 ) for x1, x2, y1, y2 in mbrs]"
   ]
  },
  {
   "cell_type": "code",
   "execution_count": 199,
   "id": "aaf04c7d",
   "metadata": {},
   "outputs": [
    {
     "data": {
      "text/plain": [
       "[(np.float64(34.5), np.float64(24.5)),\n",
       " (np.float64(48.5), np.float64(59.5)),\n",
       " (np.float64(37.5), np.float64(73.0)),\n",
       " (np.float64(40.0), np.float64(0.0))]"
      ]
     },
     "execution_count": 199,
     "metadata": {},
     "output_type": "execute_result"
    }
   ],
   "source": [
    "centroids"
   ]
  },
  {
   "cell_type": "code",
   "execution_count": 200,
   "id": "7a1ec3c4",
   "metadata": {},
   "outputs": [],
   "source": [
    "from shapely.geometry import box\n",
    "from sklearn.cluster import KMeans\n",
    "K = 2\n",
    "# Cluster centroids\n",
    "kmeans = KMeans(n_clusters=K).fit(centroids)\n",
    "labels = kmeans.labels_"
   ]
  },
  {
   "cell_type": "code",
   "execution_count": 201,
   "id": "9ca24f8a",
   "metadata": {},
   "outputs": [
    {
     "data": {
      "text/plain": [
       "array([1, 0, 0, 1], dtype=int32)"
      ]
     },
     "execution_count": 201,
     "metadata": {},
     "output_type": "execute_result"
    }
   ],
   "source": [
    "labels"
   ]
  },
  {
   "cell_type": "code",
   "execution_count": 202,
   "id": "55ab8f39",
   "metadata": {},
   "outputs": [
    {
     "data": {
      "text/plain": [
       "[[np.int64(46), np.int64(4), np.int64(91), np.int64(93)],\n",
       " [np.int64(0), np.int64(30), np.int64(28), np.int64(40)]]"
      ]
     },
     "execution_count": 202,
     "metadata": {},
     "output_type": "execute_result"
    }
   ],
   "source": [
    "def get_bbox(lat, lon, labels, i):\n",
    "    \"\"\"\n",
    "    Return [min_long, min_lat, max_long, max_lat] == [left, bottom, right, top]\n",
    "    \"\"\"\n",
    "    g_lat = np.matrix([row for row, l in zip(lat, labels) if l == i])\n",
    "    g_lon = np.matrix([row for row, l in zip(lon, labels) if l == i])\n",
    "    \n",
    "    return [np.min(g_lon), np.min(g_lat), np.max(g_lon), np.max(g_lat)]\n",
    "\n",
    "\n",
    "space_groups = []\n",
    "for i in range(K):\n",
    "    space_groups.append(get_bbox(lat=sorted_lats, lon=sorted_lons, labels=labels, i=i))\n",
    "space_groups"
   ]
  },
  {
   "cell_type": "code",
   "execution_count": 203,
   "id": "68ace0d4",
   "metadata": {},
   "outputs": [
    {
     "data": {
      "text/plain": [
       "[3, 4, 5, 5, 6, 7, 8, 9, 10]"
      ]
     },
     "execution_count": 203,
     "metadata": {},
     "output_type": "execute_result"
    }
   ],
   "source": [
    "ti_by_si = [row for row, l in zip(time_group_idx, labels) if l == 0]\n",
    "ti_by_si_rewrite = [i for start, end in ti_by_si for i in range(start, end + 1)]\n",
    "ti_by_si_rewrite"
   ]
  },
  {
   "cell_type": "code",
   "execution_count": 204,
   "id": "fca5702f",
   "metadata": {},
   "outputs": [
    {
     "data": {
      "text/plain": [
       "array([[21.        , 30.        ,  0.81200004],\n",
       "       [91.        , 51.        ,  2.13766646],\n",
       "       [28.        , 39.        ,  0.78100002],\n",
       "       [73.        , 93.        ,  3.10033345],\n",
       "       [46.        ,  4.        ,  0.15371428],\n",
       "       [55.        , 35.        ,  1.20466661],\n",
       "       [64.        , 70.        ,  2.32133341],\n",
       "       [27.        , 11.        ,  2.38566661],\n",
       "       [18.        , 82.        ,  2.80733347],\n",
       "       [91.        , 40.        ,  3.0333333 ],\n",
       "       [ 0.        , 40.        ,  3.0333333 ]])"
      ]
     },
     "execution_count": 204,
     "metadata": {},
     "output_type": "execute_result"
    }
   ],
   "source": [
    "df_array = np.stack([lon, lat, speed]).transpose()\n",
    "df_array"
   ]
  },
  {
   "cell_type": "code",
   "execution_count": 205,
   "id": "bcb0ed41",
   "metadata": {},
   "outputs": [
    {
     "data": {
      "text/plain": [
       "array([21.        , 30.        ,  0.81200004])"
      ]
     },
     "execution_count": 205,
     "metadata": {},
     "output_type": "execute_result"
    }
   ],
   "source": [
    "df_array[0]"
   ]
  },
  {
   "cell_type": "code",
   "execution_count": 208,
   "id": "3a6a9f9d",
   "metadata": {},
   "outputs": [
    {
     "data": {
      "text/plain": [
       "[array([73.        , 93.        ,  3.10033345]),\n",
       " array([46.        ,  4.        ,  0.15371428]),\n",
       " array([55.        , 35.        ,  1.20466661]),\n",
       " array([55.        , 35.        ,  1.20466661]),\n",
       " array([64.        , 70.        ,  2.32133341]),\n",
       " array([27.        , 11.        ,  2.38566661]),\n",
       " array([18.        , 82.        ,  2.80733347]),\n",
       " array([91.       , 40.       ,  3.0333333]),\n",
       " array([ 0.       , 40.       ,  3.0333333])]"
      ]
     },
     "execution_count": 208,
     "metadata": {},
     "output_type": "execute_result"
    }
   ],
   "source": [
    "df_subset = [df_array[i] for i in ti_by_si_rewrite]\n",
    "df_subset"
   ]
  },
  {
   "cell_type": "code",
   "execution_count": 132,
   "id": "8b7971f8",
   "metadata": {},
   "outputs": [
    {
     "data": {
      "text/plain": [
       "['traj_id', 'longitude']"
      ]
     },
     "execution_count": 132,
     "metadata": {},
     "output_type": "execute_result"
    }
   ],
   "source": [
    "df_idx = [row for row, l in zip(df, labels) if l == 0]\n",
    "df_idx"
   ]
  },
  {
   "cell_type": "code",
   "execution_count": null,
   "id": "0dd17e9e",
   "metadata": {},
   "outputs": [],
   "source": [
    "time_idx_subgroup = [row for row, l in zip(time_group_idx, ti_by_si) if l == i]\n",
    "idx_slice = [i for start, end in time_idx_subgroup for i in range(start, end + 1)]\n",
    "df_subset = [df[j] for j in idx_slice]"
   ]
  },
  {
   "cell_type": "markdown",
   "id": "a50e67c9",
   "metadata": {},
   "source": [
    "---"
   ]
  },
  {
   "cell_type": "code",
   "execution_count": 57,
   "id": "00b818ef",
   "metadata": {},
   "outputs": [],
   "source": [
    "centroids = [(0.5, 0.5),\n",
    " (1.5, 1.5),\n",
    " (2, 4.5),\n",
    " (3, 9),\n",
    " (7.5, 1.5),\n",
    " (8, 4),\n",
    " (9, 6),\n",
    " (11, 1.5),\n",
    " (11, 3),\n",
    " (11,6.5)]"
   ]
  },
  {
   "cell_type": "code",
   "execution_count": 58,
   "id": "941d0fc5",
   "metadata": {},
   "outputs": [],
   "source": [
    "K = 2\n",
    "# Cluster centroids\n",
    "kmeans = KMeans(n_clusters=K).fit(centroids)\n",
    "labels = kmeans.labels_"
   ]
  },
  {
   "cell_type": "code",
   "execution_count": 59,
   "id": "e82f5c91",
   "metadata": {},
   "outputs": [
    {
     "data": {
      "text/plain": [
       "array([0, 0, 0, 0, 1, 1, 1, 1, 1, 1], dtype=int32)"
      ]
     },
     "execution_count": 59,
     "metadata": {},
     "output_type": "execute_result"
    }
   ],
   "source": [
    "labels"
   ]
  },
  {
   "cell_type": "code",
   "execution_count": 78,
   "id": "fb497b2b",
   "metadata": {},
   "outputs": [
    {
     "data": {
      "text/plain": [
       "array([[ 0,  0,  1,  1],\n",
       "       [ 0,  0,  2,  2],\n",
       "       [ 1,  3,  3,  6],\n",
       "       [ 2,  8,  4, 10],\n",
       "       [ 6,  1,  9,  2],\n",
       "       [ 7,  2,  9,  6],\n",
       "       [ 6,  5, 12,  7],\n",
       "       [ 9,  0, 13,  3],\n",
       "       [10,  2, 12,  4],\n",
       "       [10,  5, 12,  8]])"
      ]
     },
     "execution_count": 78,
     "metadata": {},
     "output_type": "execute_result"
    }
   ],
   "source": [
    "ex_mbrs = [[0,0,1,1],\n",
    "           [0,0,2,2],\n",
    "           [1,3,3,6],\n",
    "           [2,8,4,10],\n",
    "           [6,1,9,2],\n",
    "           [7,2,9,6],\n",
    "           [6,5,12,7],\n",
    "           [9,0,13,3],\n",
    "           [10,2,12,4],\n",
    "           [10,5,12,8]]\n",
    "sorted_lats = [[0,0],\n",
    "               [0,0],\n",
    "               [1,3],\n",
    "               [2,8],\n",
    "               [6,1],\n",
    "               [7,2],\n",
    "               [6,5],\n",
    "               [9,0],\n",
    "               [10,2],\n",
    "               [10,5]]\n",
    "sorted_lons = [[1,1],\n",
    "               [2,2],\n",
    "               [3,6],\n",
    "               [4,10],\n",
    "               [9,2],\n",
    "               [9,6],\n",
    "               [12,7],\n",
    "               [13,3],\n",
    "               [12,4],\n",
    "               [12,8]]\n",
    "stacked=np.hstack((sorted_lats, sorted_lons))\n",
    "stacked"
   ]
  },
  {
   "cell_type": "code",
   "execution_count": 90,
   "id": "12d8a880",
   "metadata": {},
   "outputs": [],
   "source": [
    "group1_lats = np.matrix([row for row, l in zip(sorted_lats, labels) if l == 1])\n",
    "group0_lats = [row for row, l in zip(sorted_lats, labels) if l == 0]"
   ]
  }
 ],
 "metadata": {
  "kernelspec": {
   "display_name": "mapedia_env",
   "language": "python",
   "name": "python3"
  },
  "language_info": {
   "codemirror_mode": {
    "name": "ipython",
    "version": 3
   },
   "file_extension": ".py",
   "mimetype": "text/x-python",
   "name": "python",
   "nbconvert_exporter": "python",
   "pygments_lexer": "ipython3",
   "version": "3.11.13"
  }
 },
 "nbformat": 4,
 "nbformat_minor": 5
}
